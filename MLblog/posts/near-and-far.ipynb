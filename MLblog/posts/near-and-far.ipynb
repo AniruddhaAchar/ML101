{
 "cells": [
  {
   "cell_type": "markdown",
   "metadata": {},
   "source": [
    "# Measuring similarity between points\n",
    "\n",
    "Measuring similarity between points in Machine Learning is a important specifically for pattern recog. and classification to see how close or far two data points are on the projected space.\n",
    "\n",
    "The metrics of similarities, measure different aspects of similarity and are used for differnet projection spaces. For instance, Euclidean Distance is used for Euclidean geometry like the name suggests and the cosine similarity is used more for a vectors (in word embedding and word vectors)."
   ]
  },
  {
   "cell_type": "markdown",
   "metadata": {},
   "source": [
    "# Eculidean Distance\n",
    "\n",
    "This is the ordinary stright line distance between two points in Euclidean space. This is measure is also referred to as the  L^2 norml distance. Smaller the distance, the more alike the points are.\n",
    "\n",
    "There are a few variations of the formula to calculate the distance:\n",
    "\n",
    "### For Cartesian coordinate\n",
    "\n",
    "The **Eculidean Distance** between two points $$ p =   p_1, p_2,..... p_n $$ $$q =   q_1, q_2,..... q_n $$\n",
    "\n",
    "$$ d(p, q) = d(q, p) =  \\sqrt{(q_1 - p_1)^2 + (q_2 - p_2)^2+ ... + (q_n - p_n)^2} $$\n",
    "                                       $$= \\sqrt{\\sum_{i=1}^{n}(q_i - p_i)^2}$$\n",
    "                                       \n",
    "### For Euclidean vector:\n",
    "The Euclidean normal, or Euclidean length, or magnitude of two Euclidean vectors **p** and **q** starting from the origin of the space with their tips ending at the two points (p and q) is:\n",
    "\n",
    "$$ \\lVert p - q \\rVert = \\sqrt{\\lVert p \\rVert^2 + \\lVert q \\rVert^2 - 2 p\\cdot q }$$\n",
    "\n",
    "where\n",
    "$$ \\lVert p \\rVert = \\sqrt{p_1^2 + p_2^2 + ... + p_n^2}$$"
   ]
  },
  {
   "cell_type": "code",
   "execution_count": 23,
   "metadata": {},
   "outputs": [],
   "source": [
    "import math\n",
    "\n",
    "def euclidean_distance(p, q):\n",
    "    \"\"\"Calculate Euclidean distacnce between two points p, q\n",
    "    \n",
    "            Calculates the Euclidean disatnce between two points p and  q.\n",
    "            \n",
    "            This function assumes that the poinst are in Cartesian coordinate.\n",
    "            \n",
    "            Args:\n",
    "                p (:obj: `list` of int or float): This is the first point.\n",
    "                q (:obj: `list` of int or float): This is the second point.\n",
    "            \n",
    "            Returns:\n",
    "                int: Distance between the two points.\n",
    "            \n",
    "            Raises:\n",
    "                AssertionError: If p and q are not of the name dimentionality.\n",
    "                AssertionError: If the list don't have elements of type int or float \n",
    "                \n",
    "            Example:\n",
    "                dist = euclidean_distance([1,2,3], [4,5,6])\n",
    "        \n",
    "    \"\"\"\n",
    "    if len(p) != len(q):\n",
    "        raise AssertionError(\"p and q should of same length i.e. they should have the same dimentions\")\n",
    "    \n",
    "    if not all(isinstance(p_, (int, float)) for p_ in p):\n",
    "        raise AssertionError(\"All elements of the parameters passes should be of type int or float\")\n",
    "        \n",
    "    if not all(isinstance(q_, (int, float)) for q_ in q):\n",
    "        raise AssertionError(\"All elements of the parameters passes should be of type int or float\")\n",
    "    \n",
    "    #int: Summation of all the squared differences between the two points.\n",
    "    summation = 0\n",
    "    \n",
    "    for x,y in zip(p,q):\n",
    "        diff_sq = (x-y)**2 #int: The square of the difference between each dimention.\n",
    "        summation += diff_sq\n",
    "        \n",
    "    return math.sqrt(summation) #int: Square root of the summations of the square of the differences."
   ]
  },
  {
   "cell_type": "code",
   "execution_count": 24,
   "metadata": {},
   "outputs": [
    {
     "data": {
      "text/plain": [
       "5.196152422706632"
      ]
     },
     "execution_count": 24,
     "metadata": {},
     "output_type": "execute_result"
    }
   ],
   "source": [
    "euclidean_distance([1,2,3], [4,5,6])"
   ]
  },
  {
   "cell_type": "markdown",
   "metadata": {},
   "source": [
    "# Manhattan distance\n",
    "\n",
    "The distance between two points is the sum of the absolute distance of their Cartesian coordinates. The measure is along right angles.\n",
    "\n",
    "Note: While Euclidean distances are stright line distance, Manhattan distance is always measured in right angles. Thus Manhattan distances are usually greater or equal to Euclidean distance. \n",
    "\n",
    "This metric has different names. Some of them are taxicab distance, or L1 normal.\n",
    "\n",
    "Mathamaticaly Manhattan distance is defined as d1, between two vectors **p**, **q** is the sum of the lengths of the projections of the line segments between the points onto the coordinate axes. \n",
    "\n",
    "$$d_1(\\textbf{p}, \\textbf{q}) = \\| \\textbf{p} - \\textbf{q} \\|_1 = \\sum_{i=1}^n|p_i - q_i| $$\n",
    "\n",
    "where **p** = ($p_1, p_2, ..., p_n$) and **q** = ($q_1, q_2, ..., q_n$)"
   ]
  },
  {
   "cell_type": "code",
   "execution_count": 25,
   "metadata": {},
   "outputs": [],
   "source": [
    "def manhattan_distance(p,q):\n",
    "    \"\"\"Calcualtes the Manahattan Distance between the points p and q\n",
    "        This function assumes that the poinst are in Cartesian coordinate.\n",
    "            \n",
    "            Args:\n",
    "                p (:obj: `list` of int): This is the first point.\n",
    "                q (:obj: `list` of int): This is the second point.\n",
    "            \n",
    "            Returns:\n",
    "                int: Distance between the two points.\n",
    "            \n",
    "            Raises:\n",
    "                AssertionError: If p and q are not of the name dimentionality.\n",
    "                AssertionError: If the list don't have elements of type int or float \n",
    "                \n",
    "            Example:\n",
    "                dist = manhattan_distance([1,2,3], [4,5,6])\n",
    "    \"\"\"\n",
    "    if len(p) != len(q):\n",
    "        raise AssertionError(\"p and q should of same length i.e. they should have the same dimentions\")\n",
    "    \n",
    "    if not all(isinstance(p_, (int, float)) for p_ in p):\n",
    "        raise AssertionError(\"All elements of the parameters passes should be of type int or float\")\n",
    "        \n",
    "    if not all(isinstance(q_, (int, float)) for q_ in q):\n",
    "        raise AssertionError(\"All elements of the parameters passes should be of type int or float\")\n",
    "        \n",
    "    #int: Summation of all the squared differences between the two points.\n",
    "    summation = 0\n",
    "    \n",
    "    for x,y in zip(p,q):\n",
    "        diff_abs = abs(x-y) #int: The absolute of the difference between each dimention.\n",
    "        summation += diff_abs\n",
    "        \n",
    "    return summation #int: Summations of the absolute of the differences."
   ]
  },
  {
   "cell_type": "code",
   "execution_count": 26,
   "metadata": {},
   "outputs": [
    {
     "data": {
      "text/plain": [
       "9"
      ]
     },
     "execution_count": 26,
     "metadata": {},
     "output_type": "execute_result"
    }
   ],
   "source": [
    "manhattan_distance([1,2,3], [4,5,6])"
   ]
  },
  {
   "cell_type": "markdown",
   "metadata": {},
   "source": [
    "# Chebyshev Distance\n",
    "\n",
    "Also known as Tchebychev distance, maximum metric is where distance between two vectors is greatest of thiir difference along any coordinate dimention.\n",
    "\n",
    "### Formal defination:\n",
    "\n",
    "The Chebyshev Distance between two vectors or points p and q, with standard coordinates *$p_i$* and *$q_i$* respectively is\n",
    "\n",
    "$$D_Chebyshev(p,q) := max_{\\substack{i}}(|p_i - q_i|)$$\n",
    "\n",
    "This equals the limit of the L_p metrics:\n",
    "\n",
    "$$\\lim_k \\to \\infty (\\sum_i=1^n |p_i - q_i|^k)^1/k$$\n",
    "\n",
    "Hence it is called $$L_\\infty$$\n"
   ]
  },
  {
   "cell_type": "code",
   "execution_count": 7,
   "metadata": {},
   "outputs": [],
   "source": [
    "def chebyshev_distance(p,q):\n",
    "    \"\"\"Calcualtes the Chebyshev Distance between the points p and q\n",
    "        This function assumes that the poinst are in Cartesian coordinate.\n",
    "            \n",
    "            Args:\n",
    "                p (:obj: `list` of int): This is the first point.\n",
    "                q (:obj: `list` of int): This is the second point.\n",
    "            \n",
    "            Returns:\n",
    "                int: Distance between the two points.\n",
    "            \n",
    "            Raises:\n",
    "                AssertionError: If p and q are not of the name dimentionality.\n",
    "                AssertionError: If the list don't have elements of type int or float \n",
    "                \n",
    "            Example:\n",
    "                dist = chebyshev_distance([1,2,3], [4,5,6])\n",
    "    \"\"\"\n",
    "    if len(p) != len(q):\n",
    "        raise AssertionError(\"p and q should of same length i.e. they should have the same dimentions\")\n",
    "    \n",
    "    if not all(isinstance(p_, (int, float)) for p_ in p):\n",
    "        raise AssertionError(\"All elements of the parameters passes should be of type int or float\")\n",
    "        \n",
    "    if not all(isinstance(q_, (int, float)) for q_ in q):\n",
    "        raise AssertionError(\"All elements of the parameters passes should be of type int or float\")\n",
    "        \n",
    "    #list of `int or float`: List of absolute difference between the points.\n",
    "    diffLst = []\n",
    "    \n",
    "    for x,y in zip(p,q):\n",
    "        diffLst.append(abs(x-y)) #int: The absolute of the difference between each dimention.\n",
    "        \n",
    "    return max(diffLst) #int: Maximun differnce."
   ]
  },
  {
   "cell_type": "code",
   "execution_count": 9,
   "metadata": {},
   "outputs": [
    {
     "data": {
      "text/plain": [
       "3"
      ]
     },
     "execution_count": 9,
     "metadata": {},
     "output_type": "execute_result"
    }
   ],
   "source": [
    "chebyshev_distance([1,2,3], [4,5,6])"
   ]
  },
  {
   "cell_type": "markdown",
   "metadata": {},
   "source": [
    "# Minkowski Distance\n",
    "\n",
    "All the above distances are a spacial case of Minkowski distance. Mathmatically it can be represented as:\n",
    "\n",
    "For two points $$p = (p_1, p_2, ..., p_n)$$  $$q= (q_1, q_2, ..., q_n)$$\n",
    "\n",
    "$$D(p,q) = (\\sum_i=1^n|p_i - q_i|^k)^{1/k}$$\n",
    "\n",
    "The values that is usually assigned to *k* is either 1 or 2 and the limiting factor p reaching infinity we observer Chebyshev distance."
   ]
  },
  {
   "cell_type": "code",
   "execution_count": 27,
   "metadata": {},
   "outputs": [],
   "source": [
    "def minkowski_distance(p, q, k):\n",
    "    \"\"\"Calcualtes the Minkowski Distance between the points p and q given the value of k.\n",
    "        This function assumes that the poinst are in Cartesian coordinate.\n",
    "            \n",
    "            Args:\n",
    "                p (:obj: `list` of int): This is the first point.\n",
    "                q (:obj: `list` of int): This is the second point.\n",
    "                k (int): This is the power to which the difference is raised.\n",
    "            \n",
    "            Returns:\n",
    "                int: Distance between the two points.\n",
    "            \n",
    "            Raises:\n",
    "                AssertionError: If p and q are not of the name dimentionality.\n",
    "                AssertionError: If the list don't have elements of type int or float \n",
    "                \n",
    "            Example:\n",
    "                dist = minkowski_distance([1,2,3], [4,5,6], 1)\n",
    "    \"\"\"\n",
    "    if len(p) != len(q):\n",
    "        raise AssertionError(\"p and q should of same length i.e. they should have the same dimentions\")\n",
    "    \n",
    "    if not all(isinstance(p_, (int, float)) for p_ in p):\n",
    "        raise AssertionError(\"All elements of the parameters passes should be of type int or float\")\n",
    "        \n",
    "    if not all(isinstance(q_, (int, float)) for q_ in q):\n",
    "        raise AssertionError(\"All elements of the parameters passes should be of type int or float\")\n",
    "    \n",
    "    #int: Summation of all the squared differences between the two points.\n",
    "    summation = 0\n",
    "    \n",
    "    for x,y in zip(p,q):\n",
    "        diff_sq = abs((x-y))**k #int: The square of the difference between each dimention.\n",
    "        summation += diff_sq\n",
    "        \n",
    "    return (summation)**(1/k) #int: kth root of the summations of the kth power of the differences."
   ]
  },
  {
   "cell_type": "code",
   "execution_count": 28,
   "metadata": {},
   "outputs": [
    {
     "data": {
      "text/plain": [
       "9.0"
      ]
     },
     "execution_count": 28,
     "metadata": {},
     "output_type": "execute_result"
    }
   ],
   "source": [
    "minkowski_distance([1,2,3], [4,5,6], 1)"
   ]
  },
  {
   "cell_type": "code",
   "execution_count": 29,
   "metadata": {},
   "outputs": [
    {
     "data": {
      "text/plain": [
       "5.196152422706632"
      ]
     },
     "execution_count": 29,
     "metadata": {},
     "output_type": "execute_result"
    }
   ],
   "source": [
    "minkowski_distance([1,2,3], [4,5,6], 2)"
   ]
  },
  {
   "cell_type": "markdown",
   "metadata": {},
   "source": [
    "# Cosine Similarity\n",
    "\n",
    "\n",
    "Cosine similarity is a measure of similarity between two non-zero vectors of an inner product space that measures the cosine of the angle between them. The cosine of 0° is 1, and it is less than 1 for any angle in the interval (0,π] radians. If the value of this distance is closer to 1, the vectors are similar. If the value is closer to -1, the vectors are dissimilar. \n",
    "\n",
    "### Defination:\n",
    "\n",
    "The cosine of two non=zero vectors A and B can be determined using:\n",
    "\n",
    "$$A \\cdot B = \\|A\\| \\|B\\| \\cos\\theta$$\n",
    "\n",
    "$$\\cos(\\theta) = \\frac{A \\cdot B}{\\|A\\| \\|B\\|} = \\frac{\\sum_{i=1}^n{A_iB_i}}{\\sqrt{\\sum_{i=1}^n{A_i^2}}\\sqrt{\\sum_{i=1}^n{B_i^2}}}$$\n",
    "\n",
    "where $A_i$ and $B_i$ are the components of vector A nad B respectively"
   ]
  },
  {
   "cell_type": "code",
   "execution_count": 30,
   "metadata": {},
   "outputs": [],
   "source": [
    "from math import sqrt\n",
    "\n",
    "def cosine_similarity(A, B):\n",
    "    \"\"\"Measures the cosine similarity between two vectors A and B.\n",
    "    \n",
    "        Args:\n",
    "            A (:obj: `list` of int): This is the first vector.\n",
    "            B (:obj: `list` of int): This is the second vector.\n",
    "        Returns:\n",
    "                int: Distance between the two points.\n",
    "            \n",
    "        Raises:\n",
    "                AssertionError: If A and B are not of the name dimentionality.\n",
    "                AssertionError: If the list don't have elements of type int or float \n",
    "                \n",
    "        Example:\n",
    "                similarity = cosine_similarity([1,2,3], [4,5,6])\n",
    "    \"\"\"\n",
    "    if len(A) != len(B):\n",
    "        raise AssertionError(\"Parameters should of same length i.e. they should have the same dimentions\")\n",
    "        \n",
    "    if not all(isinstance(A_, (int, float)) for A_ in A):\n",
    "        raise AssertionError(\"All elements of the parameters passes should be of type int or float\")\n",
    "        \n",
    "    if not all(isinstance(B_, (int, float)) for B_ in B):\n",
    "        raise AssertionError(\"All elements of the parameters passes should be of type int or float\")\n",
    "    \n",
    "    AxB = 0 #Sum of product of vector A and B\n",
    "    AxA = 0 #Sum of product of vector A and A\n",
    "    BxB = 0 #Sum of product of vector B and B\n",
    "    \n",
    "    for a,b in zip(A,B):\n",
    "        AxB += a*b\n",
    "        AxA += a**2\n",
    "        BxB += b**2\n",
    "    similarity = AxB/(sqrt(AxA) * sqrt(BxB))\n",
    "    return similarity"
   ]
  },
  {
   "cell_type": "code",
   "execution_count": 34,
   "metadata": {},
   "outputs": [
    {
     "data": {
      "text/plain": [
       "0.8037417976696531"
      ]
     },
     "execution_count": 34,
     "metadata": {},
     "output_type": "execute_result"
    }
   ],
   "source": [
    "cosine_similarity([1,2,3], [100,5,120])"
   ]
  },
  {
   "cell_type": "markdown",
   "metadata": {},
   "source": [
    "# Jaccard Distance\n",
    "\n",
    "Jaccard Index is defined as the size of the intersection divided by the size of the union of two sample sets. If the two sets are empty, then the index is 1.\n",
    "\n",
    "Jaccard distance is 1- Jaccard index. Jaccard distance is the measure of dissimilarity between the two sets/ vectors. \n",
    "\n",
    "\n",
    "For vectors x,y where $x= (x_1, x_2, ... , x_n)$ and $y = (y_1, y_2, ..., y_n)$, the Jaccard index and distance is defined as:\n",
    "\n",
    "$$J(x,y) = \\frac{\\sum_i min(x_i, y_i)}{\\sum_i max(x_i, y_i)}$$\n",
    "\n",
    "$$d_j(x, y) = 1 - J(x,y)$$"
   ]
  },
  {
   "cell_type": "code",
   "execution_count": 11,
   "metadata": {},
   "outputs": [],
   "source": [
    "def jaccard_distance(x, y):\n",
    "    \"\"\"\n",
    "        Calculates the Jaccard distance between two real value vectors x and y.\n",
    "        \n",
    "        Args:\n",
    "            x: (:obj: `list` of int or float) The first vector.\n",
    "            y: (:obj: `list` of int or float) The second vector.\n",
    "        Return:\n",
    "            int: Jaccard Distance between vector x and y\n",
    "        Raises:\n",
    "                AssertionError: If x and y are not of the name dimentionality.\n",
    "                AssertionError: If the list don't have elements of type int or float \n",
    "                \n",
    "        Example:\n",
    "                similarity = jaccard_distance([1,2,3], [4,5,6])\n",
    "        \n",
    "    \"\"\"\n",
    "    if len(x) != len(y):\n",
    "        raise AssertionError(\"Parameters should of same length i.e. they should have the same dimentions\")\n",
    "        \n",
    "    if not all(isinstance(x_, (int, float)) for x_ in x):\n",
    "        raise AssertionError(\"All elements of the parameters passes should be of type int or float\")\n",
    "        \n",
    "    if not all(isinstance(y_, (int, float)) for y_ in y):\n",
    "        raise AssertionError(\"All elements of the parameters passes should be of type int or float\")\n",
    "    \n",
    "    sumMin = 0\n",
    "    sumMax = 0\n",
    "    \n",
    "    for x_, y_ in zip(x, y):\n",
    "        sumMin+= min(x_, y_)\n",
    "        sumMax += max(x_, y_)\n",
    "        \n",
    "    return 1 - (sumMin/sumMax)\n",
    "    "
   ]
  },
  {
   "cell_type": "code",
   "execution_count": 12,
   "metadata": {},
   "outputs": [
    {
     "data": {
      "text/plain": [
       "0.6"
      ]
     },
     "execution_count": 12,
     "metadata": {},
     "output_type": "execute_result"
    }
   ],
   "source": [
    "jaccard_distance([1,2,3], [4,5,6])"
   ]
  }
 ],
 "metadata": {
  "kernelspec": {
   "display_name": "Python 3",
   "language": "python",
   "name": "python3"
  },
  "language_info": {
   "codemirror_mode": {
    "name": "ipython",
    "version": 3
   },
   "file_extension": ".py",
   "mimetype": "text/x-python",
   "name": "python",
   "nbconvert_exporter": "python",
   "pygments_lexer": "ipython3",
   "version": "3.6.5"
  },
  "nikola": {
   "category": "",
   "date": "2019-05-12 23:51:39 UTC+05:30",
   "description": "",
   "link": "",
   "slug": "near-and-far",
   "tags": "",
   "title": "Near and Far",
   "type": "text"
  }
 },
 "nbformat": 4,
 "nbformat_minor": 1
}
