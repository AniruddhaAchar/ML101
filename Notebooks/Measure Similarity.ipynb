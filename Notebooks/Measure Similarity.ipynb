{
  "cells": [
    {
      "metadata": {},
      "cell_type": "markdown",
      "source": "# Measuring similarity between points\n\nMeasuring similarity between points in Machine Learning is a important specifically for pattern recog. and classification to see how close or far two data points are on the projected space.\n\nThe metrics of similarities, measure different aspects of similarity and are used for differnet projection spaces. For instance, Euclidean Distance is used for Euclidean geometry like the name suggests and the cosine similarity is used more for a vectors (in word embedding and word vectors)."
    },
    {
      "metadata": {},
      "cell_type": "markdown",
      "source": "# Eculidean Distance\n\nThis is the ordinary stright line distance between two points in Euclidean space. This is measure is also referred to as the $ L^2 $$ norm or $$ L^2  $ distance. Smaller the distance, the more alike the points are.\n\nThere are a few variations of the formula to calculate the distance:\n\n### For Cartesian coordinate\n\nThe **Eculidean Distance** between two points **p** = $  p_1, p_2,..... p_n $ and **q**= $  q_1, q_2,..... q_n $\n\n$$ d(p, q) = d(q, p) =  \\sqrt{(q_1 - p_1)^2 + (q_2 - p_2)^2+ ... + (q_n - p_n)^2} $$\n                                       $$= \\sqrt{\\sum_{i=1}^{n}(q_i - p_i)^2}$$\n                                       \n### For Euclidean vector:\nThe Euclidean normal, or Euclidean length, or magnitude of two Euclidean vectors **p** and **q** starting from the origin of the space with their tips ending at the two points (p and q) is:\n\n$$ \\lVert p - q \\rVert = \\sqrt{\\lVert p \\rVert^2 + \\lVert q \\rVert^2 - 2 p\\cdot q }$$\n\nwhere\n$$ \\lVert p \\rVert = \\sqrt{p_1^2 + p_2^2 + ... + p_n^2}$$"
    },
    {
      "metadata": {
        "trusted": true
      },
      "cell_type": "code",
      "source": "import math\n\ndef euclidean_distance(p, q):\n    \"\"\"Calculate Euclidean distacnce between two points p, q\n    \n            Calculates the Euclidean disatnce between two points p and  q.\n            \n            This function assumes that the poinst are in Cartesian coordinate.\n            \n            Args:\n                p (:obj: `list` of int or float): This is the first point.\n                q (:obj: `list` of int or float): This is the second point.\n            \n            Returns:\n                int: Distance between the two points.\n            \n            Raises:\n                AssertionError: If p and q are not of the name dimentionality.\n                AssertionError: If the list don't have elements of type int or float \n                \n            Example:\n                dist = euclidean_distance([1,2,3], [4,5,6])\n        \n    \"\"\"\n    if len(p) != len(q):\n        raise AssertionError(\"p and q should of same length i.e. they should have the same dimentions\")\n    \n    if not all(isinstance(p_, (int, float)) for p_ in p):\n        raise AssertionError(\"All elements of the parameters passes should be of type int or float\")\n        \n    if not all(isinstance(q_, (int, float)) for q_ in q):\n        raise AssertionError(\"All elements of the parameters passes should be of type int or float\")\n    \n    #int: Summation of all the squared differences between the two points.\n    summation = 0\n    \n    for x,y in zip(p,q):\n        diff_sq = (x-y)**2 #int: The square of the difference between each dimention.\n        summation += diff_sq\n        \n    return math.sqrt(summation) #int: Square root of the summations of the square of the differences.",
      "execution_count": 23,
      "outputs": []
    },
    {
      "metadata": {
        "trusted": true
      },
      "cell_type": "code",
      "source": "euclidean_distance([1,2,3], [4,5,6])",
      "execution_count": 24,
      "outputs": [
        {
          "output_type": "execute_result",
          "execution_count": 24,
          "data": {
            "text/plain": "5.196152422706632"
          },
          "metadata": {}
        }
      ]
    },
    {
      "metadata": {},
      "cell_type": "markdown",
      "source": "# Manhattan distance\n\nThe distance between two points is the sum of the absolute distance of their Cartesian coordinates. The measure is along right angles.\n\nNote: While Euclidean distances are stright line distance, Manhattan distance is always measured in right angles. Thus Manhattan distances are usually greater or equal to Euclidean distance. \n\nThis metric has different names. Some of them are taxicab distance, or $L_1$ normal.\n\nMathamaticaly Manhattan distance is defined as $d_1$, between two vectors **p**, **q** is the sum of the lengths of the projections of the line segments between the points onto the coordinate axes. \n\n$$d_1(\\textbf{p}, \\textbf{q}) = \\| \\textbf{p} - \\textbf{q} \\|_1 = \\sum_{i=1}^n|p_i - q_i| $$\n\nwhere **p** = ($p_1, p_2, ..., p_n$) and **q** = ($q_1, q_2, ..., q_n$)"
    },
    {
      "metadata": {
        "trusted": true
      },
      "cell_type": "code",
      "source": "def manhattan_distance(p,q):\n    \"\"\"Calcualtes the Manahattan Distance between the points p and q\n        This function assumes that the poinst are in Cartesian coordinate.\n            \n            Args:\n                p (:obj: `list` of int): This is the first point.\n                q (:obj: `list` of int): This is the second point.\n            \n            Returns:\n                int: Distance between the two points.\n            \n            Raises:\n                AssertionError: If p and q are not of the name dimentionality.\n                AssertionError: If the list don't have elements of type int or float \n                \n            Example:\n                dist = manhattan_distance([1,2,3], [4,5,6])\n    \"\"\"\n    if len(p) != len(q):\n        raise AssertionError(\"p and q should of same length i.e. they should have the same dimentions\")\n    \n    if not all(isinstance(p_, (int, float)) for p_ in p):\n        raise AssertionError(\"All elements of the parameters passes should be of type int or float\")\n        \n    if not all(isinstance(q_, (int, float)) for q_ in q):\n        raise AssertionError(\"All elements of the parameters passes should be of type int or float\")\n        \n    #int: Summation of all the squared differences between the two points.\n    summation = 0\n    \n    for x,y in zip(p,q):\n        diff_abs = abs(x-y) #int: The absolute of the difference between each dimention.\n        summation += diff_abs\n        \n    return summation #int: Summations of the absolute of the differences.",
      "execution_count": 25,
      "outputs": []
    },
    {
      "metadata": {
        "trusted": true
      },
      "cell_type": "code",
      "source": "manhattan_distance([1,2,3], [4,5,6])",
      "execution_count": 26,
      "outputs": [
        {
          "output_type": "execute_result",
          "execution_count": 26,
          "data": {
            "text/plain": "9"
          },
          "metadata": {}
        }
      ]
    },
    {
      "metadata": {},
      "cell_type": "markdown",
      "source": "# Chebyshev Distance\n\nAlso known as Tchebychev distance, maximum metric or $L_\\infty$ is where distance between two vectors is greatest of thiir difference along any coordinate dimention.\n\n### Formal defination:\n\nThe Chebyshev Distance between two vectors or points p and q, with standard coordinates *$p_i$* and *$q_i$* respectively is\n\n$$D_Chebyshev(p,q) := max_{\\substack{i}}(|p_i - q_i|)$$\n\nThis equals the limit of the L_p metrics:\n\n$$\\lim_k \\to \\infty (\\sum_i=1^n |p_i - q_i|^k)^1/k$$\n\nHence it is called $L_\\infty$\n"
    },
    {
      "metadata": {
        "trusted": true
      },
      "cell_type": "code",
      "source": "def chebyshev_distance(p,q):\n    \"\"\"Calcualtes the Chebyshev Distance between the points p and q\n        This function assumes that the poinst are in Cartesian coordinate.\n            \n            Args:\n                p (:obj: `list` of int): This is the first point.\n                q (:obj: `list` of int): This is the second point.\n            \n            Returns:\n                int: Distance between the two points.\n            \n            Raises:\n                AssertionError: If p and q are not of the name dimentionality.\n                AssertionError: If the list don't have elements of type int or float \n                \n            Example:\n                dist = chebyshev_distance([1,2,3], [4,5,6])\n    \"\"\"\n    if len(p) != len(q):\n        raise AssertionError(\"p and q should of same length i.e. they should have the same dimentions\")\n    \n    if not all(isinstance(p_, (int, float)) for p_ in p):\n        raise AssertionError(\"All elements of the parameters passes should be of type int or float\")\n        \n    if not all(isinstance(q_, (int, float)) for q_ in q):\n        raise AssertionError(\"All elements of the parameters passes should be of type int or float\")\n        \n    #list of `int or float`: List of absolute difference between the points.\n    diffLst = []\n    \n    for x,y in zip(p,q):\n        diffLst.append(abs(x-y)) #int: The absolute of the difference between each dimention.\n        \n    return max(diffLst) #int: Maximun differnce.",
      "execution_count": 7,
      "outputs": []
    },
    {
      "metadata": {
        "trusted": true
      },
      "cell_type": "code",
      "source": "chebyshev_distance([1,2,3], [4,5,6])",
      "execution_count": 9,
      "outputs": [
        {
          "output_type": "execute_result",
          "execution_count": 9,
          "data": {
            "text/plain": "3"
          },
          "metadata": {}
        }
      ]
    },
    {
      "metadata": {},
      "cell_type": "markdown",
      "source": "# Minkowski Distance\n\nAll the above distances are a spacial case of Minkowski distance. Mathmatically it can be represented as:\n\nFor two points **p** = ($p_1, p_2, ..., p_n$) and **q** = ($q_1, q_2, ..., q_n$)\n\n$$D(p,q) = (\\sum_i=1^n|p_i - q_i|^k)^{1/k}$$\n\nThe values that is usually assigned to *k* is either 1 or 2 and the limiting factor p reaching infinity we observer Chebyshev distance."
    },
    {
      "metadata": {
        "trusted": true
      },
      "cell_type": "code",
      "source": "def minkowski_distance(p, q, k):\n    \"\"\"Calcualtes the Minkowski Distance between the points p and q given the value of k.\n        This function assumes that the poinst are in Cartesian coordinate.\n            \n            Args:\n                p (:obj: `list` of int): This is the first point.\n                q (:obj: `list` of int): This is the second point.\n                k (int): This is the power to which the difference is raised.\n            \n            Returns:\n                int: Distance between the two points.\n            \n            Raises:\n                AssertionError: If p and q are not of the name dimentionality.\n                AssertionError: If the list don't have elements of type int or float \n                \n            Example:\n                dist = minkowski_distance([1,2,3], [4,5,6], 1)\n    \"\"\"\n    if len(p) != len(q):\n        raise AssertionError(\"p and q should of same length i.e. they should have the same dimentions\")\n    \n    if not all(isinstance(p_, (int, float)) for p_ in p):\n        raise AssertionError(\"All elements of the parameters passes should be of type int or float\")\n        \n    if not all(isinstance(q_, (int, float)) for q_ in q):\n        raise AssertionError(\"All elements of the parameters passes should be of type int or float\")\n    \n    #int: Summation of all the squared differences between the two points.\n    summation = 0\n    \n    for x,y in zip(p,q):\n        diff_sq = abs((x-y))**k #int: The square of the difference between each dimention.\n        summation += diff_sq\n        \n    return (summation)**(1/k) #int: kth root of the summations of the kth power of the differences.",
      "execution_count": 27,
      "outputs": []
    },
    {
      "metadata": {
        "trusted": true
      },
      "cell_type": "code",
      "source": "minkowski_distance([1,2,3], [4,5,6], 1)",
      "execution_count": 28,
      "outputs": [
        {
          "output_type": "execute_result",
          "execution_count": 28,
          "data": {
            "text/plain": "9.0"
          },
          "metadata": {}
        }
      ]
    },
    {
      "metadata": {
        "trusted": true
      },
      "cell_type": "code",
      "source": "minkowski_distance([1,2,3], [4,5,6], 2)",
      "execution_count": 29,
      "outputs": [
        {
          "output_type": "execute_result",
          "execution_count": 29,
          "data": {
            "text/plain": "5.196152422706632"
          },
          "metadata": {}
        }
      ]
    },
    {
      "metadata": {},
      "cell_type": "markdown",
      "source": "# Cosine Similarity\n\n\nCosine similarity is a measure of similarity between two non-zero vectors of an inner product space that measures the cosine of the angle between them. The cosine of 0° is 1, and it is less than 1 for any angle in the interval (0,π] radians. If the value of this distance is closer to 1, the vectors are similar. If the value is closer to -1, the vectors are dissimilar. \n\n### Defination:\n\nThe cosine of two non=zero vectors A and B can be determined using:\n\n$$A \\cdot B = \\|A\\| \\|B\\| \\cos\\theta$$\n\n$$\\cos(\\theta) = \\frac{A \\cdot B}{\\|A\\| \\|B\\|} = \\frac{\\sum_{i=1}^n{A_iB_i}}{\\sqrt{\\sum_{i=1}^n{A_i^2}}\\sqrt{\\sum_{i=1}^n{B_i^2}}}$$\n\nwhere $A_i$ and $B_i$ are the components of vector A nad B respectively"
    },
    {
      "metadata": {
        "trusted": true
      },
      "cell_type": "code",
      "source": "from math import sqrt\n\ndef cosine_similarity(A, B):\n    \"\"\"Measures the cosine similarity between two vectors A and B.\n    \n        Args:\n            A (:obj: `list` of int): This is the first vector.\n            B (:obj: `list` of int): This is the second vector.\n        Returns:\n                int: Distance between the two points.\n            \n        Raises:\n                AssertionError: If A and B are not of the name dimentionality.\n                AssertionError: If the list don't have elements of type int or float \n                \n        Example:\n                similarity = cosine_similarity([1,2,3], [4,5,6])\n    \"\"\"\n    if len(A) != len(B):\n        raise AssertionError(\"Parameters should of same length i.e. they should have the same dimentions\")\n        \n    if not all(isinstance(A_, (int, float)) for A_ in A):\n        raise AssertionError(\"All elements of the parameters passes should be of type int or float\")\n        \n    if not all(isinstance(B_, (int, float)) for B_ in B):\n        raise AssertionError(\"All elements of the parameters passes should be of type int or float\")\n    \n    AxB = 0 #Sum of product of vector A and B\n    AxA = 0 #Sum of product of vector A and A\n    BxB = 0 #Sum of product of vector B and B\n    \n    for a,b in zip(A,B):\n        AxB += a*b\n        AxA += a**2\n        BxB += b**2\n    similarity = AxB/(sqrt(AxA) * sqrt(BxB))\n    return similarity",
      "execution_count": 30,
      "outputs": []
    },
    {
      "metadata": {
        "trusted": true
      },
      "cell_type": "code",
      "source": "cosine_similarity([1,2,3], [100,5,120])",
      "execution_count": 34,
      "outputs": [
        {
          "output_type": "execute_result",
          "execution_count": 34,
          "data": {
            "text/plain": "0.8037417976696531"
          },
          "metadata": {}
        }
      ]
    },
    {
      "metadata": {},
      "cell_type": "markdown",
      "source": "# Jaccard Distance\n\nJaccard Index is defined as the size of the intersection divided by the size of the union of two sample sets. If the two sets are empty, then the index is 1.\n\nJaccard distance is 1- Jaccard index. Jaccard distance is the measure of dissimilarity between the two sets/ vectors. \n\n\nFor vectors x,y where $x= (x_1, x_2, ... , x_n)$ and $y = (y_1, y_2, ..., y_n)$, the Jaccard index and distance is defined as:\n\n$$J(x,y) = \\frac{\\sum_i min(x_i, y_i)}{\\sum_i max(x_i, y_i)}$$\n\n$$d_j(x, y) = 1 - J(x,y)$$"
    },
    {
      "metadata": {
        "trusted": true
      },
      "cell_type": "code",
      "source": "def jaccard_distance(x, y):\n    \"\"\"\n        Calculates the Jaccard distance between two real value vectors x and y.\n        \n        Args:\n            x: (:obj: `list` of int or float) The first vector.\n            y: (:obj: `list` of int or float) The second vector.\n        Return:\n            int: Jaccard Distance between vector x and y\n        Raises:\n                AssertionError: If x and y are not of the name dimentionality.\n                AssertionError: If the list don't have elements of type int or float \n                \n        Example:\n                similarity = jaccard_distance([1,2,3], [4,5,6])\n        \n    \"\"\"\n    if len(x) != len(y):\n        raise AssertionError(\"Parameters should of same length i.e. they should have the same dimentions\")\n        \n    if not all(isinstance(x_, (int, float)) for x_ in x):\n        raise AssertionError(\"All elements of the parameters passes should be of type int or float\")\n        \n    if not all(isinstance(y_, (int, float)) for y_ in y):\n        raise AssertionError(\"All elements of the parameters passes should be of type int or float\")\n    \n    sumMin = 0\n    sumMax = 0\n    \n    for x_, y_ in zip(x, y):\n        sumMin+= min(x_, y_)\n        sumMax += max(x_, y_)\n        \n    return 1 - (sumMin/sumMax)\n    ",
      "execution_count": 11,
      "outputs": []
    },
    {
      "metadata": {
        "trusted": true
      },
      "cell_type": "code",
      "source": "jaccard_distance([1,2,3], [4,5,6])",
      "execution_count": 12,
      "outputs": [
        {
          "output_type": "execute_result",
          "execution_count": 12,
          "data": {
            "text/plain": "0.6"
          },
          "metadata": {}
        }
      ]
    }
  ],
  "metadata": {
    "kernelspec": {
      "name": "python36",
      "display_name": "Python 3.6",
      "language": "python"
    },
    "language_info": {
      "mimetype": "text/x-python",
      "nbconvert_exporter": "python",
      "name": "python",
      "pygments_lexer": "ipython3",
      "version": "3.6.6",
      "file_extension": ".py",
      "codemirror_mode": {
        "version": 3,
        "name": "ipython"
      }
    }
  },
  "nbformat": 4,
  "nbformat_minor": 1
}